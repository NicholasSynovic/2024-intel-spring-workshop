{
 "cells": [
  {
   "cell_type": "markdown",
   "metadata": {},
   "source": [
    "# Training A ML Models From Scratch\n",
    "\n",
    "> A demonstration of ML pipelines and how to develop them\n"
   ]
  },
  {
   "cell_type": "markdown",
   "metadata": {},
   "source": [
    "## About\n",
    "\n",
    "This notebook is to help those attending my 2024 Intel oneAPI Workshop on reusing and extending deep learning models.\n",
    "\n",
    "This notebook, while it does not provide any deep learning code, does lay the foundational information for:\n",
    "\n",
    "1. What is a machine learning pipeline,\n",
    "2. How to train a machine learning model,\n",
    "3. How to evaluate a machine learning model,\n",
    "4. How to execute a machine learning model on new data"
   ]
  },
  {
   "cell_type": "markdown",
   "metadata": {},
   "source": [
    "## Pipelines\n",
    "\n",
    "A *data pipeline* can be thought of as a series of steps or actions to manipulate data to adhere to a specified format **without**.\n",
    "\n",
    "A common data pipeline pattern is *ETL*, or *Extract, Transform, Load*.\n",
    "\n",
    "*Machine learning pipelines* expand on ETL by including further steps to train, evaluate, refine, and deploy machine learning models."
   ]
  },
  {
   "cell_type": "markdown",
   "metadata": {},
   "source": [
    "### Data Pipeline\n",
    "\n",
    "From IBM:\n",
    "\n",
    "```\n",
    "A data pipeline is a method in which raw data is ingested from various data sources, transformed and then ported to a data store, such as a data lake or data warehouse, for analysis.\n",
    "```\n",
    "\n",
    "- [IBM, *What is a data pipeline?*](https://www.ibm.com/topics/data-pipeline)\n",
    "\n",
    "To illistrate the flow of data, see the below figure:\n",
    "\n",
    "![Data pipeline example image](images/data_pipeline_example.png)\n",
    "\n",
    "**NOTE:** I intentionally did not add any detail on *how* data flows through the pipeline. Pipelines, at a high-level, can be thought of implementation agnostic details of a larger application. "
   ]
  }
 ],
 "metadata": {
  "language_info": {
   "name": "python"
  }
 },
 "nbformat": 4,
 "nbformat_minor": 2
}
